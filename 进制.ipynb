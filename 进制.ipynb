{
  "nbformat": 4,
  "nbformat_minor": 0,
  "metadata": {
    "colab": {
      "name": "进制.ipynb",
      "provenance": [],
      "toc_visible": true,
      "authorship_tag": "ABX9TyMnw1r1sYBvJxAQf3dRLl1k",
      "include_colab_link": true
    },
    "kernelspec": {
      "name": "python3",
      "display_name": "Python 3"
    },
    "language_info": {
      "name": "python"
    }
  },
  "cells": [
    {
      "cell_type": "markdown",
      "metadata": {
        "id": "view-in-github",
        "colab_type": "text"
      },
      "source": [
        "<a href=\"https://colab.research.google.com/github/z1sxdc/kihonjyoho/blob/main/%E8%BF%9B%E5%88%B6.ipynb\" target=\"_parent\"><img src=\"https://colab.research.google.com/assets/colab-badge.svg\" alt=\"Open In Colab\"/></a>"
      ]
    },
    {
      "cell_type": "markdown",
      "source": [
        "将随机的数转换为十进制的幂形式"
      ],
      "metadata": {
        "id": "DoWmYh-mosDC"
      }
    },
    {
      "cell_type": "code",
      "source": [
        "import random\n",
        "\n",
        "\n",
        "def creat_number():\n",
        "    p = random.choice([2, 8, 16])\n",
        "    n2 = range(2)\n",
        "    n8 = range(8)\n",
        "    n16 = list(range(10))\n",
        "    n16.extend(('A', 'B', 'C', 'D', 'E', 'F'))\n",
        "    n_dict = {'n2': n2, 'n8': n8, 'n16': n16}\n",
        "    n_list = [random.choice(n_dict[f'n{p}']) for i in range(8)]\n",
        "    index = random.randint(0, 8)\n",
        "    n_list.insert(index, '.')\n",
        "    if index == 0:\n",
        "        n_list.insert(0, 0)\n",
        "    n = \"\".join([str(x) for x in n_list])\n",
        "    print(f'请写出({n}){p}的幂形式')\n",
        "    return n\n",
        "\n",
        "\n",
        "if __name__ == '__main__':\n",
        "    creat_number()"
      ],
      "metadata": {
        "colab": {
          "base_uri": "https://localhost:8080/"
        },
        "id": "kmzlb6dTovd0",
        "outputId": "570ebb38-e9bc-4406-ed62-87781326d98e"
      },
      "execution_count": 69,
      "outputs": [
        {
          "output_type": "stream",
          "name": "stdout",
          "text": [
            "请写出(0.10741017)8的幂形式\n"
          ]
        }
      ]
    }
  ]
}